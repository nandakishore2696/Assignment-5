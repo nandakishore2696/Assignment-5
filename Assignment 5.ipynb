{
 "cells": [
  {
   "cell_type": "code",
   "execution_count": null,
   "id": "4416b20a",
   "metadata": {},
   "outputs": [],
   "source": [
    "1. Who developed Python Programming Language? "
   ]
  },
  {
   "cell_type": "code",
   "execution_count": null,
   "id": "01c4760b",
   "metadata": {},
   "outputs": [],
   "source": [
    "Python was developed by Guido van Rossum, a Dutch programmer."
   ]
  },
  {
   "cell_type": "code",
   "execution_count": null,
   "id": "8f82b3a0",
   "metadata": {},
   "outputs": [],
   "source": []
  },
  {
   "cell_type": "code",
   "execution_count": null,
   "id": "bda315d9",
   "metadata": {},
   "outputs": [],
   "source": [
    "2. Which type of Programming does Python support? "
   ]
  },
  {
   "cell_type": "code",
   "execution_count": null,
   "id": "9ab5f634",
   "metadata": {},
   "outputs": [],
   "source": [
    "Python supports multiple programming paradigms, making it a versatile programming language. \n",
    "like Procedural programming\n",
    "Object oriented Programming\n",
    "Functional programming\n",
    "Scripting\n",
    "Dynamic Typing"
   ]
  },
  {
   "cell_type": "code",
   "execution_count": null,
   "id": "490c1d2c",
   "metadata": {},
   "outputs": [],
   "source": []
  },
  {
   "cell_type": "code",
   "execution_count": null,
   "id": "02184cd1",
   "metadata": {},
   "outputs": [],
   "source": [
    "3. Is Python case sensitive when dealing with identifiers? "
   ]
  },
  {
   "cell_type": "code",
   "execution_count": null,
   "id": "df7d6a2e",
   "metadata": {},
   "outputs": [],
   "source": [
    "Yes, Python is case-sensitive when dealing with identifiers."
   ]
  },
  {
   "cell_type": "code",
   "execution_count": null,
   "id": "24122ce7",
   "metadata": {},
   "outputs": [],
   "source": []
  },
  {
   "cell_type": "code",
   "execution_count": null,
   "id": "0f14033a",
   "metadata": {},
   "outputs": [],
   "source": [
    "4. What is the correct extension of the Python file? "
   ]
  },
  {
   "cell_type": "code",
   "execution_count": null,
   "id": "2cc9bc92",
   "metadata": {},
   "outputs": [],
   "source": [
    ".py"
   ]
  },
  {
   "cell_type": "code",
   "execution_count": null,
   "id": "657edad1",
   "metadata": {},
   "outputs": [],
   "source": []
  },
  {
   "cell_type": "code",
   "execution_count": null,
   "id": "068657cb",
   "metadata": {},
   "outputs": [],
   "source": [
    "5. Is Python code compiled or interpreted? "
   ]
  },
  {
   "cell_type": "code",
   "execution_count": null,
   "id": "9251fa77",
   "metadata": {},
   "outputs": [],
   "source": [
    "Python code is both compiled and interpreted"
   ]
  },
  {
   "cell_type": "code",
   "execution_count": null,
   "id": "4076e641",
   "metadata": {},
   "outputs": [],
   "source": []
  },
  {
   "cell_type": "code",
   "execution_count": null,
   "id": "71de75b4",
   "metadata": {},
   "outputs": [],
   "source": [
    "6. Name a few blocks of code used to define in Python language? "
   ]
  },
  {
   "cell_type": "code",
   "execution_count": null,
   "id": "2794969b",
   "metadata": {},
   "outputs": [],
   "source": [
    "In Python, code blocks are defined using indentation. \n",
    "Indentation is crucial for structuring the code and indicating the scope of various blocks"
   ]
  },
  {
   "cell_type": "code",
   "execution_count": null,
   "id": "398289c2",
   "metadata": {},
   "outputs": [],
   "source": []
  },
  {
   "cell_type": "code",
   "execution_count": null,
   "id": "133256ef",
   "metadata": {},
   "outputs": [],
   "source": [
    "7. State a character used to give single-line comments in Python? "
   ]
  },
  {
   "cell_type": "code",
   "execution_count": null,
   "id": "f78ebabb",
   "metadata": {},
   "outputs": [],
   "source": [
    "#"
   ]
  },
  {
   "cell_type": "code",
   "execution_count": null,
   "id": "f87fbca9",
   "metadata": {},
   "outputs": [],
   "source": []
  },
  {
   "cell_type": "code",
   "execution_count": null,
   "id": "373f6c59",
   "metadata": {},
   "outputs": [],
   "source": [
    "8. Mention functions which can help us to find the version of python that we are currently working on? "
   ]
  },
  {
   "cell_type": "code",
   "execution_count": 1,
   "id": "5f598129",
   "metadata": {},
   "outputs": [],
   "source": [
    "import sys"
   ]
  },
  {
   "cell_type": "code",
   "execution_count": 2,
   "id": "88ff43b9",
   "metadata": {},
   "outputs": [
    {
     "data": {
      "text/plain": [
       "'3.9.13 (main, Aug 25 2022, 23:51:50) [MSC v.1916 64 bit (AMD64)]'"
      ]
     },
     "execution_count": 2,
     "metadata": {},
     "output_type": "execute_result"
    }
   ],
   "source": [
    "sys.version"
   ]
  },
  {
   "cell_type": "code",
   "execution_count": null,
   "id": "43a2a75e",
   "metadata": {},
   "outputs": [],
   "source": []
  },
  {
   "cell_type": "code",
   "execution_count": null,
   "id": "0dfbf19b",
   "metadata": {},
   "outputs": [],
   "source": [
    "9. Python supports the creation of anonymous functions at runtime, using a construct called "
   ]
  },
  {
   "cell_type": "code",
   "execution_count": null,
   "id": "bdbca75b",
   "metadata": {},
   "outputs": [],
   "source": [
    "lambda "
   ]
  },
  {
   "cell_type": "code",
   "execution_count": null,
   "id": "31938e0c",
   "metadata": {},
   "outputs": [],
   "source": []
  },
  {
   "cell_type": "code",
   "execution_count": null,
   "id": "2ffce13e",
   "metadata": {},
   "outputs": [],
   "source": [
    "10. What does pip stand for python? "
   ]
  },
  {
   "cell_type": "code",
   "execution_count": null,
   "id": "1693ddcf",
   "metadata": {},
   "outputs": [],
   "source": [
    "\"Pip\" stands for \"Pip Installs Packages\""
   ]
  },
  {
   "cell_type": "code",
   "execution_count": null,
   "id": "5ed0f32f",
   "metadata": {},
   "outputs": [],
   "source": [
    "It is a package management system used to install and manage software packages written in Python. "
   ]
  },
  {
   "cell_type": "code",
   "execution_count": null,
   "id": "2cca76f5",
   "metadata": {},
   "outputs": [],
   "source": []
  },
  {
   "cell_type": "code",
   "execution_count": null,
   "id": "746e5259",
   "metadata": {},
   "outputs": [],
   "source": [
    "11. Mention a few built-in functions in python? "
   ]
  },
  {
   "cell_type": "code",
   "execution_count": null,
   "id": "8b99af57",
   "metadata": {},
   "outputs": [],
   "source": [
    "print(), len(), input(), int()"
   ]
  },
  {
   "cell_type": "code",
   "execution_count": null,
   "id": "930c95b8",
   "metadata": {},
   "outputs": [],
   "source": []
  },
  {
   "cell_type": "code",
   "execution_count": null,
   "id": "7b8ab0cc",
   "metadata": {},
   "outputs": [],
   "source": [
    "12. What is the maximum possible length of an identifier in Python? "
   ]
  },
  {
   "cell_type": "code",
   "execution_count": null,
   "id": "76eefcaf",
   "metadata": {},
   "outputs": [],
   "source": [
    "In Python, an identifier is a name given to a variable, function, class, module, or other objects.\n",
    "An identifier can have a maximum length of 79 characters in Python."
   ]
  },
  {
   "cell_type": "code",
   "execution_count": null,
   "id": "93368330",
   "metadata": {},
   "outputs": [],
   "source": []
  },
  {
   "cell_type": "code",
   "execution_count": null,
   "id": "29c8941c",
   "metadata": {},
   "outputs": [],
   "source": [
    "13. What are the benefits of using Python? "
   ]
  },
  {
   "cell_type": "code",
   "execution_count": null,
   "id": "ba678012",
   "metadata": {},
   "outputs": [],
   "source": [
    "Readability and Simplicity\n",
    "High-Level Language\n",
    "Cross-Platform Compatibility\n",
    "Large Standard Library\n",
    "Third-Party Libraries\n",
    "Open Source\n",
    "Community and Support"
   ]
  },
  {
   "cell_type": "code",
   "execution_count": null,
   "id": "ab471475",
   "metadata": {},
   "outputs": [],
   "source": []
  },
  {
   "cell_type": "code",
   "execution_count": null,
   "id": "333d4732",
   "metadata": {},
   "outputs": [],
   "source": [
    "14. How is memory managed in Python? "
   ]
  },
  {
   "cell_type": "code",
   "execution_count": null,
   "id": "05a39737",
   "metadata": {},
   "outputs": [],
   "source": [
    "Memory management in Python is handled by the Python memory manager, \n",
    "which ensures that the allocation and deallocation of memory for objects are efficient and transparent to the developer. "
   ]
  },
  {
   "cell_type": "code",
   "execution_count": null,
   "id": "6e86e3b2",
   "metadata": {},
   "outputs": [],
   "source": []
  },
  {
   "cell_type": "code",
   "execution_count": null,
   "id": "9673d9ee",
   "metadata": {},
   "outputs": [],
   "source": [
    "15. How to install Python on Windows and set path variables? "
   ]
  },
  {
   "cell_type": "code",
   "execution_count": null,
   "id": "f4468432",
   "metadata": {},
   "outputs": [],
   "source": [
    "Download Python:\n",
    "\n",
    "Run the Installer:\n",
    "\n",
    "Customize Installation (Optional)\n",
    "   \n",
    "Complete the Installation"
   ]
  },
  {
   "cell_type": "code",
   "execution_count": null,
   "id": "017b448c",
   "metadata": {},
   "outputs": [],
   "source": []
  },
  {
   "cell_type": "code",
   "execution_count": null,
   "id": "888d81da",
   "metadata": {},
   "outputs": [],
   "source": [
    "16. Is indentation required in python? "
   ]
  },
  {
   "cell_type": "code",
   "execution_count": null,
   "id": "8152f40f",
   "metadata": {},
   "outputs": [],
   "source": [
    "Yes, indentation is required in Python. \n",
    "In fact, indentation plays a critical role in Pythons syntax and structure. \n",
    "Unlike many other programming languages that use curly braces or other symbols to delimit code blocks,\n",
    "Python uses indentation to define the scope and hierarchy of code blocks."
   ]
  },
  {
   "cell_type": "code",
   "execution_count": null,
   "id": "8e5518fa",
   "metadata": {},
   "outputs": [],
   "source": []
  },
  {
   "cell_type": "code",
   "execution_count": null,
   "id": "c0f1e85d",
   "metadata": {},
   "outputs": [],
   "source": []
  },
  {
   "cell_type": "code",
   "execution_count": null,
   "id": "a34e649e",
   "metadata": {},
   "outputs": [],
   "source": []
  },
  {
   "cell_type": "code",
   "execution_count": null,
   "id": "65468f14",
   "metadata": {},
   "outputs": [],
   "source": []
  },
  {
   "cell_type": "code",
   "execution_count": null,
   "id": "69c7673a",
   "metadata": {},
   "outputs": [],
   "source": []
  }
 ],
 "metadata": {
  "kernelspec": {
   "display_name": "Python 3 (ipykernel)",
   "language": "python",
   "name": "python3"
  },
  "language_info": {
   "codemirror_mode": {
    "name": "ipython",
    "version": 3
   },
   "file_extension": ".py",
   "mimetype": "text/x-python",
   "name": "python",
   "nbconvert_exporter": "python",
   "pygments_lexer": "ipython3",
   "version": "3.9.13"
  }
 },
 "nbformat": 4,
 "nbformat_minor": 5
}
